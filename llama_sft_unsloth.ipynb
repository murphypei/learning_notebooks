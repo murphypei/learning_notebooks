{
 "cells": [
  {
   "cell_type": "markdown",
   "metadata": {},
   "source": [
    "## 使用 unsloth 和 SFTTrainer 微调 Llama3 模型"
   ]
  },
  {
   "cell_type": "code",
   "execution_count": null,
   "metadata": {},
   "outputs": [],
   "source": [
    "%pip install datasets trl peft bitsandbytes wandb accelerate transformers xformers"
   ]
  },
  {
   "cell_type": "code",
   "execution_count": null,
   "metadata": {},
   "outputs": [],
   "source": [
    "%pip install --upgrade --no-cache-dir \"unsloth[colab-new] @ git+https://github.com/unslothai/unsloth.git\""
   ]
  },
  {
   "cell_type": "code",
   "execution_count": 4,
   "metadata": {},
   "outputs": [
    {
     "name": "stdout",
     "output_type": "stream",
     "text": [
      "NV_CUDA_COMPAT_PACKAGE cuda-compat-11-8\n",
      "NV_CUDA_NSIGHT_COMPUTE_VERSION 11.8.0-1\n",
      "CUDA_VERSION 11.8.0\n",
      "NVIDIA_REQUIRE_CUDA cuda>=11.8 brand=tesla,driver>=450,driver<451 brand=tesla,driver>=470,driver<471 brand=unknown,driver>=470,driver<471 brand=nvidia,driver>=470,driver<471 brand=nvidiartx,driver>=470,driver<471 brand=geforce,driver>=470,driver<471 brand=geforcertx,driver>=470,driver<471 brand=quadro,driver>=470,driver<471 brand=quadrortx,driver>=470,driver<471 brand=titan,driver>=470,driver<471 brand=titanrtx,driver>=470,driver<471 brand=tesla,driver>=510,driver<511 brand=unknown,driver>=510,driver<511 brand=nvidia,driver>=510,driver<511 brand=nvidiartx,driver>=510,driver<511 brand=geforce,driver>=510,driver<511 brand=geforcertx,driver>=510,driver<511 brand=quadro,driver>=510,driver<511 brand=quadrortx,driver>=510,driver<511 brand=titan,driver>=510,driver<511 brand=titanrtx,driver>=510,driver<511 brand=tesla,driver>=515,driver<516 brand=unknown,driver>=515,driver<516 brand=nvidia,driver>=515,driver<516 brand=nvidiartx,driver>=515,driver<516 brand=geforce,driver>=515,driver<516 brand=geforcertx,driver>=515,driver<516 brand=quadro,driver>=515,driver<516 brand=quadrortx,driver>=515,driver<516 brand=titan,driver>=515,driver<516 brand=titanrtx,driver>=515,driver<516\n",
      "NV_CUDA_LIB_VERSION 11.8.0-1\n",
      "NV_CUDA_CUDART_VERSION 11.8.89-1\n",
      "NV_CUDA_CUDART_DEV_VERSION 11.8.89-1\n",
      "NV_CUDA_NSIGHT_COMPUTE_DEV_PACKAGE cuda-nsight-compute-11-8=11.8.0-1\n",
      "CUDA_VISIBLE_DEVICES 6\n",
      "\n",
      "True\n",
      "1\n",
      "2.4.1+cu121\n"
     ]
    }
   ],
   "source": [
    "import torch\n",
    "import os\n",
    "\n",
    "# unsloth 不支持多GPU\n",
    "os.environ[\"CUDA_VISIBLE_DEVICES\"] = \"6\"\n",
    "\n",
    "for k, v in os.environ.items():\n",
    "    if \"cuda\" in k.lower():\n",
    "        print(k, v)\n",
    "\n",
    "print()\n",
    "print(torch.cuda.is_available())\n",
    "print(torch.cuda.device_count())\n",
    "print(torch.__version__)"
   ]
  },
  {
   "cell_type": "code",
   "execution_count": 5,
   "metadata": {},
   "outputs": [
    {
     "name": "stdout",
     "output_type": "stream",
     "text": [
      "🦥 Unsloth: Will patch your computer to enable 2x faster free finetuning.\n"
     ]
    }
   ],
   "source": [
    "from unsloth import FastLanguageModel\n",
    "from datasets import load_dataset\n",
    "import wandb\n",
    "from trl import SFTConfig, SFTTrainer\n",
    "from unsloth import is_bfloat16_supported\n",
    "import gc\n",
    "from unsloth import FastLanguageModel\n",
    "from transformers import AutoTokenizer, TextStreamer\n",
    "\n",
    "\n",
    "max_seq_length = 8192  # Choose any! We auto support RoPE Scaling internally!\n",
    "dtype = None  # None for auto detection. Float16 for Tesla T4, V100, Bfloat16 for Ampere+\n",
    "load_in_4bit = True  # Use 4bit quantization to reduce memory usage. Can be False.\n",
    "base_model = \"unsloth/Llama-3.2-3B-Instruct-bnb-4bit\"\n",
    "output_model = f\"./output/{base_model}/sft\"\n",
    "final_ckpt = f\"{output_model}/final_ckpt\"\n",
    "\n",
    "wandb_name = \"llama3-finetune\""
   ]
  },
  {
   "cell_type": "code",
   "execution_count": 6,
   "metadata": {},
   "outputs": [
    {
     "name": "stdout",
     "output_type": "stream",
     "text": [
      "==((====))==  Unsloth 2024.10.0: Fast Llama patching. Transformers = 4.44.2.\n",
      "   \\\\   /|    GPU: Tesla V100-SXM2-32GB. Max memory: 31.739 GB. Platform = Linux.\n",
      "O^O/ \\_/ \\    Pytorch: 2.4.1+cu121. CUDA = 7.0. CUDA Toolkit = 12.1.\n",
      "\\        /    Bfloat16 = FALSE. FA [Xformers = 0.0.28.post1. FA2 = False]\n",
      " \"-____-\"     Free Apache license: http://github.com/unslothai/unsloth\n"
     ]
    }
   ],
   "source": [
    "model, tokenizer = FastLanguageModel.from_pretrained(\n",
    "    model_name=base_model,  # Choose ANY! eg mistralai/Mistral-7B-Instruct-v0.2\n",
    "    max_seq_length=max_seq_length,\n",
    "    dtype=dtype,\n",
    "    load_in_4bit=load_in_4bit,\n",
    ")"
   ]
  },
  {
   "cell_type": "code",
   "execution_count": 7,
   "metadata": {},
   "outputs": [
    {
     "name": "stderr",
     "output_type": "stream",
     "text": [
      "Unsloth 2024.10.0 patched 28 layers with 28 QKV layers, 28 O layers and 28 MLP layers.\n"
     ]
    }
   ],
   "source": [
    "model = FastLanguageModel.get_peft_model(\n",
    "    model,\n",
    "    r=16,  # Choose any number > 0 ! Suggested 8, 16, 32, 64, 128\n",
    "    target_modules=[\n",
    "        \"q_proj\",\n",
    "        \"k_proj\",\n",
    "        \"v_proj\",\n",
    "        \"o_proj\",\n",
    "        \"gate_proj\",\n",
    "        \"up_proj\",\n",
    "        \"down_proj\",\n",
    "    ],\n",
    "    lora_alpha=16,\n",
    "    lora_dropout=0,  # Supports any, but = 0 is optimized\n",
    "    bias=\"none\",  # Supports any, but = \"none\" is optimized\n",
    "    # [NEW] \"unsloth\" uses 30% less VRAM, fits 2x larger batch sizes!\n",
    "    use_gradient_checkpointing=\"unsloth\",  # True or \"unsloth\" for very long context\n",
    "    random_state=3407,\n",
    "    use_rslora=False,  # We support rank stabilized LoRA\n",
    "    loftq_config=None,  # And LoftQ\n",
    ")"
   ]
  },
  {
   "cell_type": "code",
   "execution_count": 8,
   "metadata": {},
   "outputs": [],
   "source": [
    "train_dataset = \"quyanh/lima\""
   ]
  },
  {
   "cell_type": "code",
   "execution_count": 22,
   "metadata": {},
   "outputs": [
    {
     "name": "stderr",
     "output_type": "stream",
     "text": [
      "Using the latest cached version of the dataset since quyanh/lima couldn't be found on the Hugging Face Hub\n",
      "Found the latest cached dataset configuration 'default' at /root/.cache/huggingface/datasets/quyanh___lima/default/0.0.0/b5bcfd82d16a543b9bdea4383c4034ff5d618cf5 (last modified on Tue Oct 15 14:11:48 2024).\n"
     ]
    },
    {
     "data": {
      "text/plain": [
       "Dataset({\n",
       "    features: ['system_prompt', 'prompt'],\n",
       "    num_rows: 100\n",
       "})"
      ]
     },
     "execution_count": 22,
     "metadata": {},
     "output_type": "execute_result"
    }
   ],
   "source": [
    "dataset = load_dataset(train_dataset)[\"train\"]\n",
    "dataset = dataset.select(range(100))\n",
    "dataset = dataset.shuffle(seed=42)\n",
    "dataset"
   ]
  },
  {
   "cell_type": "code",
   "execution_count": 10,
   "metadata": {},
   "outputs": [
    {
     "data": {
      "text/plain": [
       "'You are an AI assistant. User will you give you a task. Your goal is to complete the task as faithfully as you can. While performing the task think step-by-step and justify your steps.'"
      ]
     },
     "execution_count": 10,
     "metadata": {},
     "output_type": "execute_result"
    }
   ],
   "source": [
    "dataset[0][\"system_prompt\"]"
   ]
  },
  {
   "cell_type": "code",
   "execution_count": 11,
   "metadata": {},
   "outputs": [
    {
     "data": {
      "text/plain": [
       "'Q: Summarize the text below in less than 15 words.\\n\\nCivil engineering is a professional engineering discipline that deals with the design, construction, and maintenance of the physical and naturally built environment, including public works such as roads, bridges, canals, dams, airports, sewage systems, pipelines, structural components of buildings, and railways. \\nA: Civil Engineering deals with the design, construction, and maintenance of public infrastructure.\\n'"
      ]
     },
     "execution_count": 11,
     "metadata": {},
     "output_type": "execute_result"
    }
   ],
   "source": [
    "dataset[0][\"prompt\"]"
   ]
  },
  {
   "cell_type": "code",
   "execution_count": 12,
   "metadata": {},
   "outputs": [
    {
     "data": {
      "text/plain": [
       "\"{% if messages[0]['role'] == 'system' %}\\n    {% set offset = 1 %}\\n{% else %}\\n    {% set offset = 0 %}\\n{% endif %}\\n\\n{{ bos_token }}\\n{% for message in messages %}\\n    {% if (message['role'] == 'user') != (loop.index0 % 2 == offset) %}\\n        {{ raise_exception('Conversation roles must alternate user/assistant/user/assistant/...') }}\\n    {% endif %}\\n\\n    {{ '<|start_header_id|>' + message['role'] + '<|end_header_id|>\\\\n\\\\n' + message['content'] | trim + '<|eot_id|>' }}\\n{% endfor %}\\n\\n{% if add_generation_prompt %}\\n    {{ '<|start_header_id|>' + 'assistant' + '<|end_header_id|>\\\\n\\\\n' }}\\n{% endif %}\""
      ]
     },
     "execution_count": 12,
     "metadata": {},
     "output_type": "execute_result"
    }
   ],
   "source": [
    "chat_template = open(\"llama-3-instruct.jinja\").read()\n",
    "chat_template"
   ]
  },
  {
   "cell_type": "code",
   "execution_count": 13,
   "metadata": {},
   "outputs": [
    {
     "data": {
      "text/plain": [
       "\"{% if messages[0]['role'] == 'system' %}{% set offset = 1 %}{% else %}{% set offset = 0 %}{% endif %}{{ bos_token }}{% for message in messages %}{% if (message['role'] == 'user') != (loop.index0 % 2 == offset) %}{{ raise_exception('Conversation roles must alternate user/assistant/user/assistant/...') }}{% endif %}{{ '<|start_header_id|>' + message['role'] + '<|end_header_id|>\\\\n\\\\n' + message['content'] | trim + '<|eot_id|>' }}{% endfor %}{% if add_generation_prompt %}{{ '<|start_header_id|>' + 'assistant' + '<|end_header_id|>\\\\n\\\\n' }}{% endif %}\""
      ]
     },
     "execution_count": 13,
     "metadata": {},
     "output_type": "execute_result"
    }
   ],
   "source": [
    "chat_template = chat_template.replace(\"    \", \"\").replace(\"\\n\", \"\")\n",
    "tokenizer.chat_template = chat_template\n",
    "chat_template"
   ]
  },
  {
   "cell_type": "code",
   "execution_count": 23,
   "metadata": {},
   "outputs": [
    {
     "name": "stdout",
     "output_type": "stream",
     "text": [
      "{'system_prompt': 'You are an AI assistant. User will you give you a task. Your goal is to complete the task as faithfully as you can. While performing the task think step-by-step and justify your steps.', 'prompt': 'Q: How to invite people to a party? \\nA: Planning, hosting, and enjoying a good party is a great way to build and strengthen friendships and community!  An important, but sometimes undervalued element in the success of a party is the invitation.  The following answer will have you writing and sending out excellent invitations - and welcoming in happy guests - in no time!\\n\\n## General approaches to invitations\\n\\n1. Design your invitation to resemble the party theme. For example, a disco-themed party invitation could feature a large disco ball. People are likely to look at your invitation and make a quick first impression -- you want that first impression to be informative and fun. If your party doesn\\'t have a theme, have the invitation mirror the formality of the party. If you\\'re throwing a black tie soiree, keep it simple with a plain border, a fancy font, and to-the-point text. If you\\'re throwing a rave, make your invitation as wild as you\\'d like. You can also send a mail to your friends and relatives to give an invitation for a party.\\n2. Include all important information guests will need to know. That\\'s usually the time and date of the party, location, where to call for more information, and whether or not the guest needs to RSVP are all important. And do they need to bring anything (food, swimsuit, etc.)? Does the party have a specific time it ends? You may want to include a few selling points if applicable. Will you be having awards for best dressed? Provide beer and wine? Will there be 50 varieties of European cheeses? Give your guests a slight clue as to what you have planned for the evening to whet their appetite.\\n3. Respect the level of formality of your party. A formal party should require a more formal invitation, such as a letter. An informal party invitation is up to your discretion – a phone call, email, or social media event would all work fine. Formal events generally require a bit of advanced notice -- preferably around 2 weeks.\\n4. Decide how many people total you want at your party. There are several things to consider when thinking about a party\\'s size and attendance:\\n\\t* How big is the space where your party will be? Can your apartment hold 10 people, 50 people, 200 people? Is it okay for the people you invite to bring friends? How many friends? Do you have a say over who those friends are? How many people can you feed and have drinks for at your party? Does this include friends of friends? If you\\'re having your party at a club, bar, hotel, rented room, etc., does the owner have limits on the number of people that can be there?\\n\\n\\n## Sending mailed invitations\\n\\n1. Make sure to send out written invitations at least two or three weeks before the event. \"Snail mail\" can take a while to be processed, delivered, read, and replied to. A time before that and people may write it off thinking, \"I don\\'t know what I\\'m doing for breakfast, much less next month!\" Too soon and people already have plans. Around 2 weeks out is your best bet.\\n2. Make sure you have the current and correct addresses of your guests. An outdated or misspelled address could leave one of your best friends out of your party! If you\\'re not sure of someone\\'s address, contact them and confirm it.\\n3. Decorate your card appropriately. A mailed invitation is a great opportunity to impress a guest, but don\\'t over-complicate an invitation to a simple party - this may intimidate guests. You\\'re just inviting them for a good time! Have something on the envelope that clearly indicates your invitation is something to be intrigued by. Yours isn\\'t just another piece of junk mail!\\n\\n\\n## Inviting guests over the phone\\n\\n1. If you don’t have them, obtain the phone numbers of those you wish to invite. No need to be sneaky about it -- just send them a quick message online. If you don\\'t have their online info, ask a friend who likely has their information.\\n2. Call your guests at a time when they are unlikely to have other engagements. They\\'ll be less excited about your party if you\\'re calling them when they\\'re in the middle of a meeting or in between bites of food. Before or after dinner is usually a safe bet. People are generally less busy between 5 and 6pm, or after 7pm. Gauge what time they eat dinner (different cultures, different times) and work around that. Earlier in the week is best, too. Don\\'t call too late! Call before 9:30 or 10:00pm. You don\\'t want to wake anyone up with what should be a warm and welcome invitation.\\n3. Make use of the personal nature of a phone call. Chat with your guests as you fill them in on the details of your party. Your winning personality will sell the party for you! Try starting out with the usual pleasantries. \"How are you? \", \"How is work going? \", and \"How\\'s the family?\" are often good starting points. Choose a natural pause in conversation or termination of a subject to bring up that you are having a party. After you have alerted them to the party, you can answer any immediate questions the guest might have, and even gauge interest through tone of voice.\\n4. Make sure your guest remembers the important party information. The spoken word can be easily forgotten, and it may be worth emailing, texting, or mailing them some of the details. They could be swamped with a dozen other things going on, even if they are really interested in your party. Make sure they know what\\'s expected of them. Sometimes getting involved (like bringing a dish) can get them remembering and even looking forward to it.\\n5. If your guest cannot give an immediate yes or no, set up a time to call them back. You\\'re not nagging them; you\\'re simply getting a head count so you can plan your party accordingly. If they can\\'t give you a yes or no on the second go-round, it\\'s best to discount them. If they show up, fine, but if they don\\'t, it\\'s no skin of your nose. The party will still go on and it\\'ll be great.\\n\\n\\n## Inviting guests in person\\n\\n1. Approach your guests at a convenient time. Invite them during a time you might see them anyway. Maybe you share a scheduled activity together? Otherwise, schedule an activity or meet up with them as is convenient. The more time they have, the more receptive they\\'ll be to your approach.\\n2. Leave guests a way out. Don\\'t invite guests in a way that makes them feel they have to say yes. Your party should be fun and totally accommodating. If they can\\'t make it, they should feel a little disappointed -- not guilty! For example, instead of saying \"You\\'re coming to my party next weekend, right? \", say something like \"Hey \\\\*guest\\'s name\\\\*, I\\'m having a party next weekend. I\\'d love it if you could come!\"\\n3. Make sure to give them all the necessary information. Much like with a phone invitation, it is easy to forget details in the heat of a personal conversation/invitation. Make sure to cover where and when it is, what the occasion is, and if they need to bring anything. To avoid guests forgetting information, you can hand out a physical invitation as well. This doesn\\'t have to be a tried-and-true invite so much as a reminder. Short of that, you can offer to write information down or text it to their phone, etc.\\n4. Chat up your guests. You can raise interest for your party with an in-person invitation. This can be especially effective in a group setting. The more excited you are about it and the more you can build it up with detail, the less they\\'ll be likely to forget and the more likely they are to feed off your excitement and get excited, too. Describe what your party will be like, and how excited you are. You can say something like \"I\\'m really looking forward to it; it\\'s going to be great!\" You can also use tone and body language in a personal conversation for added effect. If you don’t have the party’s details nailed down, open them up for suggestions by your guests. Guests are much more likely to come if they had a hand in the creation of your party.\\n5. Be aware that you may offend people you didn’t invite who overhear your invitations to others. Be discreet when you\\'re doling out your in-person invitations. Make sure only the people you want invited are hearing the discussion. If it\\'s an issue, tell them that you can only have so many people at the party. Because of that, you need them to keep word on the down-low. They\\'ll feel special for making the VIP list!\\n\\n\\n## Sending email invitations\\n\\n1. Create an E-card. There are multiple online services with which you can create fun and engaging E-cards. This is an entertaining and often free way to invite guests to a party. And it gets the buzz going! E-Cards are sent to email addresses just like a normal message, but they include images, sound, and sometimes short animations. E-cards can also be acceptable for semi-formal parties if themed correctly. If you prefer to send a normal email, just include the necessary information, any additional message, and an image if desired. For more information, check out How to Write an Email to a Friend\\n2. Go to a website that offers free email invitations. Evite, Socializr, and MyPunchBowl are three popular choices. Choose a style that fits the theme and/or mood of your party, and be sure to include everything that needs including! There are a dozens of invitation websites out there. If the one your one isn\\'t doing it for you, just go to another one!\\n3. Enter in basic required information, such as location, date, time, etc. Type a nice, handcrafted message if desired. Make it unique and personal -- not just some template that will do. The more time you spend on it, the more impressive it\\'ll be. Also consider adding end time, costume specifics, meal details, etc. Anything you think may give your guests a better picture of what the plan is can be useful.\\n4. Type the email addresses of the people you’d like to invite. It is usually necessary to include a comma between each email address, just for the record. Some websites will let you know when the messages have been read and will keep correspondence for you -- take advantage of it and select this before sending!\\n5. Preview the invitation and send it through the website. It\\'ll keep tabs on your recipients and will handle the RSVPs. Though you may need to send a courtesy text to a few of your busier friends! Sometimes emails do get lost in the shuffle.\\n\\n\\n## Sending social media invitations\\n\\n1. Choose a social media platform that most of your friends and acquaintances use. Use the infrastructure of the social media site to create an event, and send invitations to all those you’d like to see at your party. For more information on how to create such events, check out How to Create an Event on Facebook\\n2. Include all the necessary information. Throw in a picture of two if you like. The more complete it is, the more people can get a picture of the awesomeness of your party. Be creative here! Saying, \"Hey guys, having a party at 7 on Friday!\" won\\'t get them jazzed.\\n3. If you can, start up a conversation in the event panel. Be sure to respond to the comments and questions of others. This way you can start being a good host before your party even begins. Getting people involved in the makings of your party will ensure their attendance and get them feeling like a part of the magic.\\n4. Be wary of how many people you invite. Often times, the amount of people you invite to a social media event and the amount of people that show up are quite different. Never take the numbers you see online at face value. Usually, fewer people show up than RSVP \"yes,\" but the discrepancy can trend in either direction. Especially if it\\'s open and people bring friends. Generally, the higher the number of people that RSVP \"yes,\" the more likely it is for your party to \"snowball\" into a much bigger event than you planned for.\\n\\n'}\n",
      "\n",
      "\n",
      "\n",
      "{'message': [{'role': 'system', 'content': 'You are an AI assistant. User will you give you a task. Your goal is to complete the task as faithfully as you can. While performing the task think step-by-step and justify your steps.'}, {'role': 'user', 'content': 'How to invite people to a party?'}, {'role': 'assistant', 'content': 'Planning, hosting, and enjoying a good party is a great way to build and strengthen friendships and community!  An important, but sometimes undervalued element in the success of a party is the invitation.  The following answer will have you writing and sending out excellent invitations - and welcoming in happy guests - in no time!\\n\\n## General approaches to invitations\\n\\n1. Design your invitation to resemble the party theme. For example, a disco-themed party invitation could feature a large disco ball. People are likely to look at your invitation and make a quick first impression -- you want that first impression to be informative and fun. If your party doesn\\'t have a theme, have the invitation mirror the formality of the party. If you\\'re throwing a black tie soiree, keep it simple with a plain border, a fancy font, and to-the-point text. If you\\'re throwing a rave, make your invitation as wild as you\\'d like. You can also send a mail to your friends and relatives to give an invitation for a party.\\n2. Include all important information guests will need to know. That\\'s usually the time and date of the party, location, where to call for more information, and whether or not the guest needs to RSVP are all important. And do they need to bring anything (food, swimsuit, etc.)? Does the party have a specific time it ends? You may want to include a few selling points if applicable. Will you be having awards for best dressed? Provide beer and wine? Will there be 50 varieties of European cheeses? Give your guests a slight clue as to what you have planned for the evening to whet their appetite.\\n3. Respect the level of formality of your party. A formal party should require a more formal invitation, such as a letter. An informal party invitation is up to your discretion – a phone call, email, or social media event would all work fine. Formal events generally require a bit of advanced notice -- preferably around 2 weeks.\\n4. Decide how many people total you want at your party. There are several things to consider when thinking about a party\\'s size and attendance:\\n\\t* How big is the space where your party will be? Can your apartment hold 10 people, 50 people, 200 people? Is it okay for the people you invite to bring friends? How many friends? Do you have a say over who those friends are? How many people can you feed and have drinks for at your party? Does this include friends of friends? If you\\'re having your party at a club, bar, hotel, rented room, etc., does the owner have limits on the number of people that can be there?\\n\\n\\n## Sending mailed invitations\\n\\n1. Make sure to send out written invitations at least two or three weeks before the event. \"Snail mail\" can take a while to be processed, delivered, read, and replied to. A time before that and people may write it off thinking, \"I don\\'t know what I\\'m doing for breakfast, much less next month!\" Too soon and people already have plans. Around 2 weeks out is your best bet.\\n2. Make sure you have the current and correct addresses of your guests. An outdated or misspelled address could leave one of your best friends out of your party! If you\\'re not sure of someone\\'s address, contact them and confirm it.\\n3. Decorate your card appropriately. A mailed invitation is a great opportunity to impress a guest, but don\\'t over-complicate an invitation to a simple party - this may intimidate guests. You\\'re just inviting them for a good time! Have something on the envelope that clearly indicates your invitation is something to be intrigued by. Yours isn\\'t just another piece of junk mail!\\n\\n\\n## Inviting guests over the phone\\n\\n1. If you don’t have them, obtain the phone numbers of those you wish to invite. No need to be sneaky about it -- just send them a quick message online. If you don\\'t have their online info, ask a friend who likely has their information.\\n2. Call your guests at a time when they are unlikely to have other engagements. They\\'ll be less excited about your party if you\\'re calling them when they\\'re in the middle of a meeting or in between bites of food. Before or after dinner is usually a safe bet. People are generally less busy between 5 and 6pm, or after 7pm. Gauge what time they eat dinner (different cultures, different times) and work around that. Earlier in the week is best, too. Don\\'t call too late! Call before 9:30 or 10:00pm. You don\\'t want to wake anyone up with what should be a warm and welcome invitation.\\n3. Make use of the personal nature of a phone call. Chat with your guests as you fill them in on the details of your party. Your winning personality will sell the party for you! Try starting out with the usual pleasantries. \"How are you? \", \"How is work going? \", and \"How\\'s the family?\" are often good starting points. Choose a natural pause in conversation or termination of a subject to bring up that you are having a party. After you have alerted them to the party, you can answer any immediate questions the guest might have, and even gauge interest through tone of voice.\\n4. Make sure your guest remembers the important party information. The spoken word can be easily forgotten, and it may be worth emailing, texting, or mailing them some of the details. They could be swamped with a dozen other things going on, even if they are really interested in your party. Make sure they know what\\'s expected of them. Sometimes getting involved (like bringing a dish) can get them remembering and even looking forward to it.\\n5. If your guest cannot give an immediate yes or no, set up a time to call them back. You\\'re not nagging them; you\\'re simply getting a head count so you can plan your party accordingly. If they can\\'t give you a yes or no on the second go-round, it\\'s best to discount them. If they show up, fine, but if they don\\'t, it\\'s no skin of your nose. The party will still go on and it\\'ll be great.\\n\\n\\n## Inviting guests in person\\n\\n1. Approach your guests at a convenient time. Invite them during a time you might see them anyway. Maybe you share a scheduled activity together? Otherwise, schedule an activity or meet up with them as is convenient. The more time they have, the more receptive they\\'ll be to your approach.\\n2. Leave guests a way out. Don\\'t invite guests in a way that makes them feel they have to say yes. Your party should be fun and totally accommodating. If they can\\'t make it, they should feel a little disappointed -- not guilty! For example, instead of saying \"You\\'re coming to my party next weekend, right? \", say something like \"Hey \\\\*guest\\'s name\\\\*, I\\'m having a party next weekend. I\\'d love it if you could come!\"\\n3. Make sure to give them all the necessary information. Much like with a phone invitation, it is easy to forget details in the heat of a personal conversation/invitation. Make sure to cover where and when it is, what the occasion is, and if they need to bring anything. To avoid guests forgetting information, you can hand out a physical invitation as well. This doesn\\'t have to be a tried-and-true invite so much as a reminder. Short of that, you can offer to write information down or text it to their phone, etc.\\n4. Chat up your guests. You can raise interest for your party with an in-person invitation. This can be especially effective in a group setting. The more excited you are about it and the more you can build it up with detail, the less they\\'ll be likely to forget and the more likely they are to feed off your excitement and get excited, too. Describe what your party will be like, and how excited you are. You can say something like \"I\\'m really looking forward to it; it\\'s going to be great!\" You can also use tone and body language in a personal conversation for added effect. If you don’t have the party’s details nailed down, open them up for suggestions by your guests. Guests are much more likely to come if they had a hand in the creation of your party.\\n5. Be aware that you may offend people you didn’t invite who overhear your invitations to others. Be discreet when you\\'re doling out your in-person invitations. Make sure only the people you want invited are hearing the discussion. If it\\'s an issue, tell them that you can only have so many people at the party. Because of that, you need them to keep word on the down-low. They\\'ll feel special for making the VIP list!\\n\\n\\n## Sending email invitations\\n\\n1. Create an E-card. There are multiple online services with which you can create fun and engaging E-cards. This is an entertaining and often free way to invite guests to a party. And it gets the buzz going! E-Cards are sent to email addresses just like a normal message, but they include images, sound, and sometimes short animations. E-cards can also be acceptable for semi-formal parties if themed correctly. If you prefer to send a normal email, just include the necessary information, any additional message, and an image if desired. For more information, check out How to Write an Email to a Friend\\n2. Go to a website that offers free email invitations. Evite, Socializr, and MyPunchBowl are three popular choices. Choose a style that fits the theme and/or mood of your party, and be sure to include everything that needs including! There are a dozens of invitation websites out there. If the one your one isn\\'t doing it for you, just go to another one!\\n3. Enter in basic required information, such as location, date, time, etc. Type a nice, handcrafted message if desired. Make it unique and personal -- not just some template that will do. The more time you spend on it, the more impressive it\\'ll be. Also consider adding end time, costume specifics, meal details, etc. Anything you think may give your guests a better picture of what the plan is can be useful.\\n4. Type the email addresses of the people you’d like to invite. It is usually necessary to include a comma between each email address, just for the record. Some websites will let you know when the messages have been read and will keep correspondence for you -- take advantage of it and select this before sending!\\n5. Preview the invitation and send it through the website. It\\'ll keep tabs on your recipients and will handle the RSVPs. Though you may need to send a courtesy text to a few of your busier friends! Sometimes emails do get lost in the shuffle.\\n\\n\\n## Sending social media invitations\\n\\n1. Choose a social media platform that most of your friends and acquaintances use. Use the infrastructure of the social media site to create an event, and send invitations to all those you’d like to see at your party. For more information on how to create such events, check out How to Create an Event on Facebook\\n2. Include all the necessary information. Throw in a picture of two if you like. The more complete it is, the more people can get a picture of the awesomeness of your party. Be creative here! Saying, \"Hey guys, having a party at 7 on Friday!\" won\\'t get them jazzed.\\n3. If you can, start up a conversation in the event panel. Be sure to respond to the comments and questions of others. This way you can start being a good host before your party even begins. Getting people involved in the makings of your party will ensure their attendance and get them feeling like a part of the magic.\\n4. Be wary of how many people you invite. Often times, the amount of people you invite to a social media event and the amount of people that show up are quite different. Never take the numbers you see online at face value. Usually, fewer people show up than RSVP \"yes,\" but the discrepancy can trend in either direction. Especially if it\\'s open and people bring friends. Generally, the higher the number of people that RSVP \"yes,\" the more likely it is for your party to \"snowball\" into a much bigger event than you planned for.'}], 'text': '<|begin_of_text|><|start_header_id|>system<|end_header_id|>\\n\\nYou are an AI assistant. User will you give you a task. Your goal is to complete the task as faithfully as you can. While performing the task think step-by-step and justify your steps.<|eot_id|><|start_header_id|>user<|end_header_id|>\\n\\nHow to invite people to a party?<|eot_id|><|start_header_id|>assistant<|end_header_id|>\\n\\nPlanning, hosting, and enjoying a good party is a great way to build and strengthen friendships and community!  An important, but sometimes undervalued element in the success of a party is the invitation.  The following answer will have you writing and sending out excellent invitations - and welcoming in happy guests - in no time!\\n\\n## General approaches to invitations\\n\\n1. Design your invitation to resemble the party theme. For example, a disco-themed party invitation could feature a large disco ball. People are likely to look at your invitation and make a quick first impression -- you want that first impression to be informative and fun. If your party doesn\\'t have a theme, have the invitation mirror the formality of the party. If you\\'re throwing a black tie soiree, keep it simple with a plain border, a fancy font, and to-the-point text. If you\\'re throwing a rave, make your invitation as wild as you\\'d like. You can also send a mail to your friends and relatives to give an invitation for a party.\\n2. Include all important information guests will need to know. That\\'s usually the time and date of the party, location, where to call for more information, and whether or not the guest needs to RSVP are all important. And do they need to bring anything (food, swimsuit, etc.)? Does the party have a specific time it ends? You may want to include a few selling points if applicable. Will you be having awards for best dressed? Provide beer and wine? Will there be 50 varieties of European cheeses? Give your guests a slight clue as to what you have planned for the evening to whet their appetite.\\n3. Respect the level of formality of your party. A formal party should require a more formal invitation, such as a letter. An informal party invitation is up to your discretion – a phone call, email, or social media event would all work fine. Formal events generally require a bit of advanced notice -- preferably around 2 weeks.\\n4. Decide how many people total you want at your party. There are several things to consider when thinking about a party\\'s size and attendance:\\n\\t* How big is the space where your party will be? Can your apartment hold 10 people, 50 people, 200 people? Is it okay for the people you invite to bring friends? How many friends? Do you have a say over who those friends are? How many people can you feed and have drinks for at your party? Does this include friends of friends? If you\\'re having your party at a club, bar, hotel, rented room, etc., does the owner have limits on the number of people that can be there?\\n\\n\\n## Sending mailed invitations\\n\\n1. Make sure to send out written invitations at least two or three weeks before the event. \"Snail mail\" can take a while to be processed, delivered, read, and replied to. A time before that and people may write it off thinking, \"I don\\'t know what I\\'m doing for breakfast, much less next month!\" Too soon and people already have plans. Around 2 weeks out is your best bet.\\n2. Make sure you have the current and correct addresses of your guests. An outdated or misspelled address could leave one of your best friends out of your party! If you\\'re not sure of someone\\'s address, contact them and confirm it.\\n3. Decorate your card appropriately. A mailed invitation is a great opportunity to impress a guest, but don\\'t over-complicate an invitation to a simple party - this may intimidate guests. You\\'re just inviting them for a good time! Have something on the envelope that clearly indicates your invitation is something to be intrigued by. Yours isn\\'t just another piece of junk mail!\\n\\n\\n## Inviting guests over the phone\\n\\n1. If you don’t have them, obtain the phone numbers of those you wish to invite. No need to be sneaky about it -- just send them a quick message online. If you don\\'t have their online info, ask a friend who likely has their information.\\n2. Call your guests at a time when they are unlikely to have other engagements. They\\'ll be less excited about your party if you\\'re calling them when they\\'re in the middle of a meeting or in between bites of food. Before or after dinner is usually a safe bet. People are generally less busy between 5 and 6pm, or after 7pm. Gauge what time they eat dinner (different cultures, different times) and work around that. Earlier in the week is best, too. Don\\'t call too late! Call before 9:30 or 10:00pm. You don\\'t want to wake anyone up with what should be a warm and welcome invitation.\\n3. Make use of the personal nature of a phone call. Chat with your guests as you fill them in on the details of your party. Your winning personality will sell the party for you! Try starting out with the usual pleasantries. \"How are you? \", \"How is work going? \", and \"How\\'s the family?\" are often good starting points. Choose a natural pause in conversation or termination of a subject to bring up that you are having a party. After you have alerted them to the party, you can answer any immediate questions the guest might have, and even gauge interest through tone of voice.\\n4. Make sure your guest remembers the important party information. The spoken word can be easily forgotten, and it may be worth emailing, texting, or mailing them some of the details. They could be swamped with a dozen other things going on, even if they are really interested in your party. Make sure they know what\\'s expected of them. Sometimes getting involved (like bringing a dish) can get them remembering and even looking forward to it.\\n5. If your guest cannot give an immediate yes or no, set up a time to call them back. You\\'re not nagging them; you\\'re simply getting a head count so you can plan your party accordingly. If they can\\'t give you a yes or no on the second go-round, it\\'s best to discount them. If they show up, fine, but if they don\\'t, it\\'s no skin of your nose. The party will still go on and it\\'ll be great.\\n\\n\\n## Inviting guests in person\\n\\n1. Approach your guests at a convenient time. Invite them during a time you might see them anyway. Maybe you share a scheduled activity together? Otherwise, schedule an activity or meet up with them as is convenient. The more time they have, the more receptive they\\'ll be to your approach.\\n2. Leave guests a way out. Don\\'t invite guests in a way that makes them feel they have to say yes. Your party should be fun and totally accommodating. If they can\\'t make it, they should feel a little disappointed -- not guilty! For example, instead of saying \"You\\'re coming to my party next weekend, right? \", say something like \"Hey \\\\*guest\\'s name\\\\*, I\\'m having a party next weekend. I\\'d love it if you could come!\"\\n3. Make sure to give them all the necessary information. Much like with a phone invitation, it is easy to forget details in the heat of a personal conversation/invitation. Make sure to cover where and when it is, what the occasion is, and if they need to bring anything. To avoid guests forgetting information, you can hand out a physical invitation as well. This doesn\\'t have to be a tried-and-true invite so much as a reminder. Short of that, you can offer to write information down or text it to their phone, etc.\\n4. Chat up your guests. You can raise interest for your party with an in-person invitation. This can be especially effective in a group setting. The more excited you are about it and the more you can build it up with detail, the less they\\'ll be likely to forget and the more likely they are to feed off your excitement and get excited, too. Describe what your party will be like, and how excited you are. You can say something like \"I\\'m really looking forward to it; it\\'s going to be great!\" You can also use tone and body language in a personal conversation for added effect. If you don’t have the party’s details nailed down, open them up for suggestions by your guests. Guests are much more likely to come if they had a hand in the creation of your party.\\n5. Be aware that you may offend people you didn’t invite who overhear your invitations to others. Be discreet when you\\'re doling out your in-person invitations. Make sure only the people you want invited are hearing the discussion. If it\\'s an issue, tell them that you can only have so many people at the party. Because of that, you need them to keep word on the down-low. They\\'ll feel special for making the VIP list!\\n\\n\\n## Sending email invitations\\n\\n1. Create an E-card. There are multiple online services with which you can create fun and engaging E-cards. This is an entertaining and often free way to invite guests to a party. And it gets the buzz going! E-Cards are sent to email addresses just like a normal message, but they include images, sound, and sometimes short animations. E-cards can also be acceptable for semi-formal parties if themed correctly. If you prefer to send a normal email, just include the necessary information, any additional message, and an image if desired. For more information, check out How to Write an Email to a Friend\\n2. Go to a website that offers free email invitations. Evite, Socializr, and MyPunchBowl are three popular choices. Choose a style that fits the theme and/or mood of your party, and be sure to include everything that needs including! There are a dozens of invitation websites out there. If the one your one isn\\'t doing it for you, just go to another one!\\n3. Enter in basic required information, such as location, date, time, etc. Type a nice, handcrafted message if desired. Make it unique and personal -- not just some template that will do. The more time you spend on it, the more impressive it\\'ll be. Also consider adding end time, costume specifics, meal details, etc. Anything you think may give your guests a better picture of what the plan is can be useful.\\n4. Type the email addresses of the people you’d like to invite. It is usually necessary to include a comma between each email address, just for the record. Some websites will let you know when the messages have been read and will keep correspondence for you -- take advantage of it and select this before sending!\\n5. Preview the invitation and send it through the website. It\\'ll keep tabs on your recipients and will handle the RSVPs. Though you may need to send a courtesy text to a few of your busier friends! Sometimes emails do get lost in the shuffle.\\n\\n\\n## Sending social media invitations\\n\\n1. Choose a social media platform that most of your friends and acquaintances use. Use the infrastructure of the social media site to create an event, and send invitations to all those you’d like to see at your party. For more information on how to create such events, check out How to Create an Event on Facebook\\n2. Include all the necessary information. Throw in a picture of two if you like. The more complete it is, the more people can get a picture of the awesomeness of your party. Be creative here! Saying, \"Hey guys, having a party at 7 on Friday!\" won\\'t get them jazzed.\\n3. If you can, start up a conversation in the event panel. Be sure to respond to the comments and questions of others. This way you can start being a good host before your party even begins. Getting people involved in the makings of your party will ensure their attendance and get them feeling like a part of the magic.\\n4. Be wary of how many people you invite. Often times, the amount of people you invite to a social media event and the amount of people that show up are quite different. Never take the numbers you see online at face value. Usually, fewer people show up than RSVP \"yes,\" but the discrepancy can trend in either direction. Especially if it\\'s open and people bring friends. Generally, the higher the number of people that RSVP \"yes,\" the more likely it is for your party to \"snowball\" into a much bigger event than you planned for.<|eot_id|>'}\n"
     ]
    }
   ],
   "source": [
    "import re\n",
    "\n",
    "\n",
    "def formatting_prompts_func(example):\n",
    "    # 使用正则表达式匹配Q:和A:开头的对话\n",
    "    pattern = re.compile(r\"(Q:.*?)(?=Q:|A:|$)|(A:.*?)(?=Q:|A:|$)\", re.DOTALL)\n",
    "    matches = pattern.findall(example[\"prompt\"])\n",
    "\n",
    "    message = []\n",
    "    message.append({\"role\": \"system\", \"content\": example[\"system_prompt\"]})\n",
    "\n",
    "    for match in matches:\n",
    "        user_part, assistant_part = match\n",
    "        if user_part:\n",
    "            message.append({\"role\": \"user\", \"content\": user_part[2:].strip()})\n",
    "        if assistant_part:\n",
    "            message.append({\"role\": \"assistant\", \"content\": assistant_part[2:].strip()})\n",
    "    \n",
    "    try:\n",
    "        text = tokenizer.apply_chat_template(message, tokenize=False)\n",
    "    except:\n",
    "        print(message)\n",
    "        raise RuntimeError\n",
    "    return {\"message\": message, \"text\": text}\n",
    "\n",
    "\n",
    "print(dataset[0])\n",
    "print(\"\\n\\n\")\n",
    "result = formatting_prompts_func(dataset[0])\n",
    "print(result)"
   ]
  },
  {
   "cell_type": "code",
   "execution_count": 24,
   "metadata": {},
   "outputs": [
    {
     "data": {
      "application/vnd.jupyter.widget-view+json": {
       "model_id": "8fb00dc7635849c3af7a635e4cc5693f",
       "version_major": 2,
       "version_minor": 0
      },
      "text/plain": [
       "Map (num_proc=96):   0%|          | 0/100 [00:00<?, ? examples/s]"
      ]
     },
     "metadata": {},
     "output_type": "display_data"
    }
   ],
   "source": [
    "original_columns = dataset.column_names\n",
    "tokenizer.pad_token = tokenizer.eos_token\n",
    "tokenizer.padding_side = \"left\"\n",
    "\n",
    "dataset = dataset.map(\n",
    "    formatting_prompts_func,\n",
    "    remove_columns=original_columns,\n",
    "    num_proc=os.cpu_count(),\n",
    ")"
   ]
  },
  {
   "cell_type": "code",
   "execution_count": 25,
   "metadata": {},
   "outputs": [
    {
     "name": "stderr",
     "output_type": "stream",
     "text": [
      "\u001b[34m\u001b[1mwandb\u001b[0m: Using wandb-core as the SDK backend. Please refer to https://wandb.me/wandb-core for more information.\n"
     ]
    },
    {
     "name": "stderr",
     "output_type": "stream",
     "text": [
      "\u001b[34m\u001b[1mwandb\u001b[0m: Currently logged in as: \u001b[33mmurphypei\u001b[0m. Use \u001b[1m`wandb login --relogin`\u001b[0m to force relogin\n"
     ]
    }
   ],
   "source": [
    "wandb.login()\n",
    "os.environ[\"WANDB_PROJECT\"] = wandb_name"
   ]
  },
  {
   "cell_type": "code",
   "execution_count": 26,
   "metadata": {},
   "outputs": [],
   "source": [
    "sft_config = SFTConfig(\n",
    "    output_dir=output_model,\n",
    "    per_device_train_batch_size=2,\n",
    "    gradient_accumulation_steps=4,\n",
    "    gradient_checkpointing=True,\n",
    "    learning_rate=5e-5,\n",
    "    lr_scheduler_type=\"cosine\",\n",
    "    num_train_epochs=1,\n",
    "    save_strategy=\"no\",\n",
    "    logging_steps=1,\n",
    "    optim=\"paged_adamw_32bit\",\n",
    "    warmup_steps=10,\n",
    "    fp16=not is_bfloat16_supported(),\n",
    "    bf16=is_bfloat16_supported(),\n",
    "    report_to=\"wandb\",\n",
    "    max_seq_length=max_seq_length,\n",
    "    # remove_unused_columns=False,\n",
    "    dataset_num_proc=os.cpu_count(),\n",
    ")"
   ]
  },
  {
   "cell_type": "code",
   "execution_count": 29,
   "metadata": {},
   "outputs": [
    {
     "name": "stderr",
     "output_type": "stream",
     "text": [
      "Detected kernel version 4.9.70, which is below the recommended minimum of 5.5.0; this can cause the process to hang. It is recommended to upgrade the kernel to the minimum version or higher.\n"
     ]
    }
   ],
   "source": [
    "sft_trainer = SFTTrainer(\n",
    "    model,\n",
    "    args=sft_config,\n",
    "    train_dataset=dataset,\n",
    "    tokenizer=tokenizer,\n",
    "    dataset_text_field=\"text\",\n",
    ")"
   ]
  },
  {
   "cell_type": "code",
   "execution_count": 30,
   "metadata": {},
   "outputs": [
    {
     "name": "stderr",
     "output_type": "stream",
     "text": [
      "==((====))==  Unsloth - 2x faster free finetuning | Num GPUs = 1\n",
      "   \\\\   /|    Num examples = 100 | Num Epochs = 1\n",
      "O^O/ \\_/ \\    Batch size per device = 2 | Gradient Accumulation steps = 4\n",
      "\\        /    Total batch size = 8 | Total steps = 12\n",
      " \"-____-\"     Number of trainable parameters = 24,313,856\n",
      "\u001b[34m\u001b[1mwandb\u001b[0m: \u001b[33mWARNING\u001b[0m The `run_name` is currently set to the same value as `TrainingArguments.output_dir`. If this was not intended, please specify a different run name by setting the `TrainingArguments.run_name` parameter.\n"
     ]
    },
    {
     "data": {
      "text/html": [
       "Changes to your `wandb` environment variables will be ignored because your `wandb` session has already started. For more information on how to modify your settings with `wandb.init()` arguments, please refer to <a href='https://wandb.me/wandb-init' target=\"_blank\">the W&B docs</a>."
      ],
      "text/plain": [
       "<IPython.core.display.HTML object>"
      ]
     },
     "metadata": {},
     "output_type": "display_data"
    },
    {
     "data": {
      "text/html": [
       "Tracking run with wandb version 0.18.1"
      ],
      "text/plain": [
       "<IPython.core.display.HTML object>"
      ]
     },
     "metadata": {},
     "output_type": "display_data"
    },
    {
     "data": {
      "text/html": [
       "Run data is saved locally in <code>/ws/code/github/notebooks/wandb/run-20241015_141802-x0h3enxx</code>"
      ],
      "text/plain": [
       "<IPython.core.display.HTML object>"
      ]
     },
     "metadata": {},
     "output_type": "display_data"
    },
    {
     "data": {
      "text/html": [
       "Syncing run <strong><a href='https://wandb.ai/murphypei/llama3-finetune/runs/x0h3enxx' target=\"_blank\">./output/unsloth/Llama-3.2-3B-Instruct-bnb-4bit/sft</a></strong> to <a href='https://wandb.ai/murphypei/llama3-finetune' target=\"_blank\">Weights & Biases</a> (<a href='https://wandb.me/run' target=\"_blank\">docs</a>)<br/>"
      ],
      "text/plain": [
       "<IPython.core.display.HTML object>"
      ]
     },
     "metadata": {},
     "output_type": "display_data"
    },
    {
     "data": {
      "text/html": [
       " View project at <a href='https://wandb.ai/murphypei/llama3-finetune' target=\"_blank\">https://wandb.ai/murphypei/llama3-finetune</a>"
      ],
      "text/plain": [
       "<IPython.core.display.HTML object>"
      ]
     },
     "metadata": {},
     "output_type": "display_data"
    },
    {
     "data": {
      "text/html": [
       " View run at <a href='https://wandb.ai/murphypei/llama3-finetune/runs/x0h3enxx' target=\"_blank\">https://wandb.ai/murphypei/llama3-finetune/runs/x0h3enxx</a>"
      ],
      "text/plain": [
       "<IPython.core.display.HTML object>"
      ]
     },
     "metadata": {},
     "output_type": "display_data"
    },
    {
     "data": {
      "text/html": [
       "\n",
       "    <div>\n",
       "      \n",
       "      <progress value='12' max='12' style='width:300px; height:20px; vertical-align: middle;'></progress>\n",
       "      [12/12 00:35, Epoch 0/1]\n",
       "    </div>\n",
       "    <table border=\"1\" class=\"dataframe\">\n",
       "  <thead>\n",
       " <tr style=\"text-align: left;\">\n",
       "      <th>Step</th>\n",
       "      <th>Training Loss</th>\n",
       "    </tr>\n",
       "  </thead>\n",
       "  <tbody>\n",
       "    <tr>\n",
       "      <td>1</td>\n",
       "      <td>4.324200</td>\n",
       "    </tr>\n",
       "    <tr>\n",
       "      <td>2</td>\n",
       "      <td>4.287300</td>\n",
       "    </tr>\n",
       "    <tr>\n",
       "      <td>3</td>\n",
       "      <td>3.668300</td>\n",
       "    </tr>\n",
       "    <tr>\n",
       "      <td>4</td>\n",
       "      <td>3.962600</td>\n",
       "    </tr>\n",
       "    <tr>\n",
       "      <td>5</td>\n",
       "      <td>4.230400</td>\n",
       "    </tr>\n",
       "    <tr>\n",
       "      <td>6</td>\n",
       "      <td>3.759400</td>\n",
       "    </tr>\n",
       "    <tr>\n",
       "      <td>7</td>\n",
       "      <td>4.033300</td>\n",
       "    </tr>\n",
       "    <tr>\n",
       "      <td>8</td>\n",
       "      <td>4.015200</td>\n",
       "    </tr>\n",
       "    <tr>\n",
       "      <td>9</td>\n",
       "      <td>3.823500</td>\n",
       "    </tr>\n",
       "    <tr>\n",
       "      <td>10</td>\n",
       "      <td>4.172700</td>\n",
       "    </tr>\n",
       "    <tr>\n",
       "      <td>11</td>\n",
       "      <td>3.862500</td>\n",
       "    </tr>\n",
       "    <tr>\n",
       "      <td>12</td>\n",
       "      <td>4.048900</td>\n",
       "    </tr>\n",
       "  </tbody>\n",
       "</table><p>"
      ],
      "text/plain": [
       "<IPython.core.display.HTML object>"
      ]
     },
     "metadata": {},
     "output_type": "display_data"
    },
    {
     "data": {
      "text/plain": [
       "TrainOutput(global_step=12, training_loss=4.015695333480835, metrics={'train_runtime': 42.6067, 'train_samples_per_second': 2.347, 'train_steps_per_second': 0.282, 'total_flos': 1565832443289600.0, 'train_loss': 4.015695333480835, 'epoch': 0.96})"
      ]
     },
     "execution_count": 30,
     "metadata": {},
     "output_type": "execute_result"
    }
   ],
   "source": [
    "sft_trainer.train()"
   ]
  },
  {
   "cell_type": "code",
   "execution_count": 31,
   "metadata": {},
   "outputs": [
    {
     "name": "stdout",
     "output_type": "stream",
     "text": [
      "Unsloth: Merging 4bit and LoRA weights to 16bit...\n",
      "Unsloth: Will use up to 159.6 out of 251.58 RAM for saving.\n"
     ]
    },
    {
     "name": "stderr",
     "output_type": "stream",
     "text": [
      "100%|██████████| 28/28 [00:00<00:00, 77.29it/s]\n"
     ]
    },
    {
     "name": "stdout",
     "output_type": "stream",
     "text": [
      "Unsloth: Saving tokenizer... Done.\n",
      "Unsloth: Saving model... This might take 5 minutes for Llama-7b...\n",
      "Done.\n"
     ]
    }
   ],
   "source": [
    "model.save_pretrained_merged(final_ckpt, tokenizer, save_method=\"merged_16bit\")"
   ]
  },
  {
   "cell_type": "code",
   "execution_count": null,
   "metadata": {},
   "outputs": [],
   "source": [
    "# Flush memory\n",
    "# del dpo_trainer, model\n",
    "# gc.collect()\n",
    "# torch.cuda.empty_cache()"
   ]
  },
  {
   "cell_type": "code",
   "execution_count": 32,
   "metadata": {},
   "outputs": [
    {
     "name": "stdout",
     "output_type": "stream",
     "text": [
      "==((====))==  Unsloth 2024.10.0: Fast Llama patching. Transformers = 4.44.2.\n",
      "   \\\\   /|    GPU: Tesla V100-SXM2-32GB. Max memory: 31.739 GB. Platform = Linux.\n",
      "O^O/ \\_/ \\    Pytorch: 2.4.1+cu121. CUDA = 7.0. CUDA Toolkit = 12.1.\n",
      "\\        /    Bfloat16 = FALSE. FA [Xformers = 0.0.28.post1. FA2 = False]\n",
      " \"-____-\"     Free Apache license: http://github.com/unslothai/unsloth\n"
     ]
    },
    {
     "data": {
      "application/vnd.jupyter.widget-view+json": {
       "model_id": "7ef67cff36294224be6a78416b0fbe34",
       "version_major": 2,
       "version_minor": 0
      },
      "text/plain": [
       "Loading checkpoint shards:   0%|          | 0/2 [00:00<?, ?it/s]"
      ]
     },
     "metadata": {},
     "output_type": "display_data"
    },
    {
     "name": "stderr",
     "output_type": "stream",
     "text": [
      "./output/unsloth/Llama-3.2-3B-Instruct-bnb-4bit/sft/final_ckpt does not have a padding token! Will use pad_token = <|finetune_right_pad_id|>.\n"
     ]
    },
    {
     "data": {
      "text/plain": [
       "LlamaForCausalLM(\n",
       "  (model): LlamaModel(\n",
       "    (embed_tokens): Embedding(128256, 3072)\n",
       "    (layers): ModuleList(\n",
       "      (0-27): 28 x LlamaDecoderLayer(\n",
       "        (self_attn): LlamaAttention(\n",
       "          (q_proj): Linear4bit(in_features=3072, out_features=3072, bias=False)\n",
       "          (k_proj): Linear4bit(in_features=3072, out_features=1024, bias=False)\n",
       "          (v_proj): Linear4bit(in_features=3072, out_features=1024, bias=False)\n",
       "          (o_proj): Linear4bit(in_features=3072, out_features=3072, bias=False)\n",
       "          (rotary_emb): LlamaExtendedRotaryEmbedding()\n",
       "        )\n",
       "        (mlp): LlamaMLP(\n",
       "          (gate_proj): Linear4bit(in_features=3072, out_features=8192, bias=False)\n",
       "          (up_proj): Linear4bit(in_features=3072, out_features=8192, bias=False)\n",
       "          (down_proj): Linear4bit(in_features=8192, out_features=3072, bias=False)\n",
       "          (act_fn): SiLU()\n",
       "        )\n",
       "        (input_layernorm): LlamaRMSNorm((3072,), eps=1e-05)\n",
       "        (post_attention_layernorm): LlamaRMSNorm((3072,), eps=1e-05)\n",
       "      )\n",
       "    )\n",
       "    (norm): LlamaRMSNorm((3072,), eps=1e-05)\n",
       "    (rotary_emb): LlamaRotaryEmbedding()\n",
       "  )\n",
       "  (lm_head): Linear(in_features=3072, out_features=128256, bias=False)\n",
       ")"
      ]
     },
     "execution_count": 32,
     "metadata": {},
     "output_type": "execute_result"
    }
   ],
   "source": [
    "model, tokenizer = FastLanguageModel.from_pretrained(\n",
    "    model_name=final_ckpt,  # YOUR MODEL YOU USED FOR TRAINING\n",
    "    max_seq_length=max_seq_length,\n",
    "    dtype=dtype,\n",
    "    load_in_4bit=load_in_4bit,\n",
    ")\n",
    "FastLanguageModel.for_inference(model)  # Enable native 2x faster inference"
   ]
  },
  {
   "cell_type": "code",
   "execution_count": 34,
   "metadata": {},
   "outputs": [
    {
     "data": {
      "text/plain": [
       "tensor([[128000, 128006,   9125, 128007,    271,   2675,    527,    264,  11190,\n",
       "          18328,   6369,   6465,    430,   5825,  64694,  11503,     13, 128009,\n",
       "         128006,    882, 128007,    271,   3923,    527,  71503,    323,   3249,\n",
       "           1053,    358,   1005,   1124,    369,   5780,   6975,   9256,     30,\n",
       "         128009, 128006,  78191, 128007,    271]], device='cuda:0')"
      ]
     },
     "execution_count": 34,
     "metadata": {},
     "output_type": "execute_result"
    }
   ],
   "source": [
    "# Format prompt\n",
    "messages = [\n",
    "    {\"role\": \"system\", \"content\": \"You are a helpful assistant chatbot that provides concise answers.\"},\n",
    "    {\"role\": \"user\", \"content\": \"What are GPUs and why would I use them for machine learning tasks?\"},\n",
    "]\n",
    "\n",
    "inputs = tokenizer.apply_chat_template(messages, tokenize=True, add_generation_prompt=True, return_tensors=\"pt\").to(\n",
    "    \"cuda\"\n",
    ")\n",
    "inputs"
   ]
  },
  {
   "cell_type": "code",
   "execution_count": 35,
   "metadata": {},
   "outputs": [
    {
     "name": "stderr",
     "output_type": "stream",
     "text": [
      "The attention mask is not set and cannot be inferred from input because pad token is same as eos token. As a consequence, you may observe unexpected behavior. Please pass your input's `attention_mask` to obtain reliable results.\n"
     ]
    },
    {
     "name": "stdout",
     "output_type": "stream",
     "text": [
      "<|begin_of_text|><|start_header_id|>system<|end_header_id|>\n",
      "\n",
      "You are a helpful assistant chatbot that provides concise answers.<|eot_id|><|start_header_id|>user<|end_header_id|>\n",
      "\n",
      "What are GPUs and why would I use them for machine learning tasks?<|eot_id|><|start_header_id|>assistant<|end_header_id|>\n",
      "\n",
      "**What are GPUs?**\n",
      "\n",
      "Graphics Processing Units (GPUs) are specialized computer chips designed to perform massive parallel processing, making them extremely efficient for computationally intensive tasks.\n",
      "\n",
      "**Why use GPUs for machine learning?**\n",
      "\n",
      "GPUs are particularly well-suited for machine learning (ML) tasks because they:\n",
      "\n",
      "1. **Speed up computations**: GPUs can perform many calculations simultaneously, reducing the time required for tasks like matrix multiplication, convolution, and neural network computations.\n",
      "2. **Reduce memory bandwidth**: GPUs have high memory bandwidth, allowing for faster data transfer between the GPU and host system.\n",
      "3. **Increase parallelism**: GPUs can handle many tasks in parallel, making them ideal for tasks like image processing, natural language processing, and computer vision.\n",
      "\n",
      "**Common use cases for GPUs in machine learning:**\n",
      "\n",
      "1. **Deep learning**: GPUs are essential for training and deploying deep neural networks, such as those used in computer vision, natural language processing, and speech recognition.\n",
      "2. **Accelerated computing**: GPUs can speed up tasks like image processing, data compression, and scientific simulations.\n",
      "3. **High-performance computing**: GPUs can be used for tasks like data analytics, data mining, and data science.\n",
      "\n",
      "**Popular GPU frameworks for machine learning:**\n",
      "\n",
      "1. **TensorFlow**: An open-source ML framework that supports GPU acceleration.\n",
      "2. **PyTorch**: An open-source ML framework that supports GPU acceleration.\n",
      "3. **Caffe**: A deep learning framework that supports GPU acceleration.\n",
      "\n",
      "In summary, GPUs are designed to speed up computationally intensive tasks, making them an essential component for many machine learning applications.<|eot_id|>\n"
     ]
    }
   ],
   "source": [
    "text_streamer = TextStreamer(tokenizer)\n",
    "_ = model.generate(input_ids=inputs, streamer=text_streamer, max_new_tokens=1024, use_cache=True)"
   ]
  }
 ],
 "metadata": {
  "kernelspec": {
   "display_name": "base",
   "language": "python",
   "name": "python3"
  },
  "language_info": {
   "codemirror_mode": {
    "name": "ipython",
    "version": 3
   },
   "file_extension": ".py",
   "mimetype": "text/x-python",
   "name": "python",
   "nbconvert_exporter": "python",
   "pygments_lexer": "ipython3",
   "version": "3.10.13"
  },
  "orig_nbformat": 4
 },
 "nbformat": 4,
 "nbformat_minor": 2
}
